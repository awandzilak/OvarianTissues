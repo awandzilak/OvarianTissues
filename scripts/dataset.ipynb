{
 "cells": [
  {
   "cell_type": "markdown",
   "id": "5b4efb38",
   "metadata": {},
   "source": [
    "## Dataset description"
   ]
  },
  {
   "cell_type": "markdown",
   "id": "f539dfdd",
   "metadata": {},
   "source": [
    "In this study, we present data regarding **ovarian samples**, both healthy and diseased, which are categorized as follows:\n",
    "* CONTROL - no pathological changes visible,\n",
    "* ENDOM - endometrial carcinoma,\n",
    "* HGSC - high-grade serous carcinoma ,\n",
    "* MUC - mucinous carcinoma \n",
    "\n",
    "They were obtained from Fourier Transform Infrared Spectroscopy (FTIR) experiments conducted at AGH University of Science and Technology in Krakow, Poland, and they provide insights into the **molecular composition of tissues**. The data are presented as counts corresponding to peaks in FTIR spectra. Measurements were taken for tissues prepared in two ways:\n",
    "* Tissues **embedded in paraffin** (PAR).\n",
    "* Tissues **after deparaffinization** (DEP)."
   ]
  },
  {
   "cell_type": "code",
   "execution_count": 25,
   "id": "413e0d34",
   "metadata": {},
   "outputs": [],
   "source": [
    "import pandas as pd\n",
    "import seaborn as sns\n",
    "import matplotlib.pyplot as plt\n",
    "from sklearn.model_selection import train_test_split, GroupShuffleSplit "
   ]
  },
  {
   "cell_type": "markdown",
   "id": "3f9709f4",
   "metadata": {},
   "source": [
    "### 1. Dataset"
   ]
  },
  {
   "cell_type": "markdown",
   "id": "63eae92d",
   "metadata": {},
   "source": [
    "Let's bring in the dataset and explore its contents to gain a deeper understanding of the data."
   ]
  },
  {
   "cell_type": "code",
   "execution_count": 26,
   "id": "dacb0cb4",
   "metadata": {},
   "outputs": [],
   "source": [
    "# load the dataset\n",
    "data_raw = pd.read_excel('../data/data.xlsx')"
   ]
  },
  {
   "cell_type": "code",
   "execution_count": 27,
   "id": "9d8a98a8",
   "metadata": {},
   "outputs": [
    {
     "data": {
      "text/html": [
       "<div>\n",
       "<style scoped>\n",
       "    .dataframe tbody tr th:only-of-type {\n",
       "        vertical-align: middle;\n",
       "    }\n",
       "\n",
       "    .dataframe tbody tr th {\n",
       "        vertical-align: top;\n",
       "    }\n",
       "\n",
       "    .dataframe thead th {\n",
       "        text-align: right;\n",
       "    }\n",
       "</style>\n",
       "<table border=\"1\" class=\"dataframe\">\n",
       "  <thead>\n",
       "    <tr style=\"text-align: right;\">\n",
       "      <th></th>\n",
       "      <th>Patient</th>\n",
       "      <th>Sample</th>\n",
       "      <th>Category</th>\n",
       "      <th>Lipids</th>\n",
       "      <th>Unsaturated lipids</th>\n",
       "      <th>CH3 groups</th>\n",
       "      <th>CH2 groups</th>\n",
       "      <th>Ester groups</th>\n",
       "      <th>Unsaturated/saturated lipid ratio</th>\n",
       "      <th>Lipid saturation</th>\n",
       "      <th>...</th>\n",
       "      <th>Band 1450</th>\n",
       "      <th>Band 1390</th>\n",
       "      <th>Band 1240</th>\n",
       "      <th>Band 1080</th>\n",
       "      <th>Band 1310</th>\n",
       "      <th>Band 2850</th>\n",
       "      <th>Band 3060</th>\n",
       "      <th>Biomass_I</th>\n",
       "      <th>Biomass_II</th>\n",
       "      <th>Biomass_Total</th>\n",
       "    </tr>\n",
       "  </thead>\n",
       "  <tbody>\n",
       "    <tr>\n",
       "      <th>count</th>\n",
       "      <td>31912.0</td>\n",
       "      <td>31912</td>\n",
       "      <td>31912</td>\n",
       "      <td>31912.000000</td>\n",
       "      <td>31912.000000</td>\n",
       "      <td>31912.000000</td>\n",
       "      <td>31912.000000</td>\n",
       "      <td>31912.000000</td>\n",
       "      <td>31912.000000</td>\n",
       "      <td>31912.000000</td>\n",
       "      <td>...</td>\n",
       "      <td>31912.000000</td>\n",
       "      <td>31912.000000</td>\n",
       "      <td>31912.000000</td>\n",
       "      <td>31912.000000</td>\n",
       "      <td>31912.000000</td>\n",
       "      <td>31912.000000</td>\n",
       "      <td>31912.000000</td>\n",
       "      <td>31912.000000</td>\n",
       "      <td>31912.000000</td>\n",
       "      <td>31912.000000</td>\n",
       "    </tr>\n",
       "    <tr>\n",
       "      <th>unique</th>\n",
       "      <td>33.0</td>\n",
       "      <td>50</td>\n",
       "      <td>8</td>\n",
       "      <td>NaN</td>\n",
       "      <td>NaN</td>\n",
       "      <td>NaN</td>\n",
       "      <td>NaN</td>\n",
       "      <td>NaN</td>\n",
       "      <td>NaN</td>\n",
       "      <td>NaN</td>\n",
       "      <td>...</td>\n",
       "      <td>NaN</td>\n",
       "      <td>NaN</td>\n",
       "      <td>NaN</td>\n",
       "      <td>NaN</td>\n",
       "      <td>NaN</td>\n",
       "      <td>NaN</td>\n",
       "      <td>NaN</td>\n",
       "      <td>NaN</td>\n",
       "      <td>NaN</td>\n",
       "      <td>NaN</td>\n",
       "    </tr>\n",
       "    <tr>\n",
       "      <th>top</th>\n",
       "      <td>2071876.0</td>\n",
       "      <td>N 26</td>\n",
       "      <td>HGSC_par</td>\n",
       "      <td>NaN</td>\n",
       "      <td>NaN</td>\n",
       "      <td>NaN</td>\n",
       "      <td>NaN</td>\n",
       "      <td>NaN</td>\n",
       "      <td>NaN</td>\n",
       "      <td>NaN</td>\n",
       "      <td>...</td>\n",
       "      <td>NaN</td>\n",
       "      <td>NaN</td>\n",
       "      <td>NaN</td>\n",
       "      <td>NaN</td>\n",
       "      <td>NaN</td>\n",
       "      <td>NaN</td>\n",
       "      <td>NaN</td>\n",
       "      <td>NaN</td>\n",
       "      <td>NaN</td>\n",
       "      <td>NaN</td>\n",
       "    </tr>\n",
       "    <tr>\n",
       "      <th>freq</th>\n",
       "      <td>3469.0</td>\n",
       "      <td>2964</td>\n",
       "      <td>12812</td>\n",
       "      <td>NaN</td>\n",
       "      <td>NaN</td>\n",
       "      <td>NaN</td>\n",
       "      <td>NaN</td>\n",
       "      <td>NaN</td>\n",
       "      <td>NaN</td>\n",
       "      <td>NaN</td>\n",
       "      <td>...</td>\n",
       "      <td>NaN</td>\n",
       "      <td>NaN</td>\n",
       "      <td>NaN</td>\n",
       "      <td>NaN</td>\n",
       "      <td>NaN</td>\n",
       "      <td>NaN</td>\n",
       "      <td>NaN</td>\n",
       "      <td>NaN</td>\n",
       "      <td>NaN</td>\n",
       "      <td>NaN</td>\n",
       "    </tr>\n",
       "    <tr>\n",
       "      <th>mean</th>\n",
       "      <td>NaN</td>\n",
       "      <td>NaN</td>\n",
       "      <td>NaN</td>\n",
       "      <td>24.846343</td>\n",
       "      <td>-0.014731</td>\n",
       "      <td>2.290090</td>\n",
       "      <td>11.151939</td>\n",
       "      <td>-0.161978</td>\n",
       "      <td>-0.011964</td>\n",
       "      <td>4.183101</td>\n",
       "      <td>...</td>\n",
       "      <td>1.029627</td>\n",
       "      <td>0.427061</td>\n",
       "      <td>0.392735</td>\n",
       "      <td>0.629494</td>\n",
       "      <td>0.022107</td>\n",
       "      <td>4.030647</td>\n",
       "      <td>0.099232</td>\n",
       "      <td>39.066903</td>\n",
       "      <td>33.407301</td>\n",
       "      <td>72.474204</td>\n",
       "    </tr>\n",
       "    <tr>\n",
       "      <th>std</th>\n",
       "      <td>NaN</td>\n",
       "      <td>NaN</td>\n",
       "      <td>NaN</td>\n",
       "      <td>17.853234</td>\n",
       "      <td>0.008707</td>\n",
       "      <td>1.542136</td>\n",
       "      <td>8.254825</td>\n",
       "      <td>0.072436</td>\n",
       "      <td>0.134562</td>\n",
       "      <td>2.311403</td>\n",
       "      <td>...</td>\n",
       "      <td>0.638488</td>\n",
       "      <td>0.158479</td>\n",
       "      <td>0.168214</td>\n",
       "      <td>0.440272</td>\n",
       "      <td>0.025501</td>\n",
       "      <td>2.986890</td>\n",
       "      <td>0.064941</td>\n",
       "      <td>16.260292</td>\n",
       "      <td>13.094158</td>\n",
       "      <td>27.207239</td>\n",
       "    </tr>\n",
       "    <tr>\n",
       "      <th>min</th>\n",
       "      <td>NaN</td>\n",
       "      <td>NaN</td>\n",
       "      <td>NaN</td>\n",
       "      <td>-0.106751</td>\n",
       "      <td>-0.187319</td>\n",
       "      <td>-0.037424</td>\n",
       "      <td>-0.009415</td>\n",
       "      <td>-0.559956</td>\n",
       "      <td>-20.574695</td>\n",
       "      <td>-55.888301</td>\n",
       "      <td>...</td>\n",
       "      <td>-0.071033</td>\n",
       "      <td>-0.132053</td>\n",
       "      <td>-0.101492</td>\n",
       "      <td>-0.589192</td>\n",
       "      <td>-0.202773</td>\n",
       "      <td>-0.010721</td>\n",
       "      <td>-0.378584</td>\n",
       "      <td>-10.508358</td>\n",
       "      <td>-16.230971</td>\n",
       "      <td>-21.257606</td>\n",
       "    </tr>\n",
       "    <tr>\n",
       "      <th>25%</th>\n",
       "      <td>NaN</td>\n",
       "      <td>NaN</td>\n",
       "      <td>NaN</td>\n",
       "      <td>2.843458</td>\n",
       "      <td>-0.018647</td>\n",
       "      <td>0.516018</td>\n",
       "      <td>1.189789</td>\n",
       "      <td>-0.211130</td>\n",
       "      <td>-0.020296</td>\n",
       "      <td>2.545845</td>\n",
       "      <td>...</td>\n",
       "      <td>0.325684</td>\n",
       "      <td>0.324803</td>\n",
       "      <td>0.278651</td>\n",
       "      <td>0.428183</td>\n",
       "      <td>0.011896</td>\n",
       "      <td>0.305769</td>\n",
       "      <td>0.058491</td>\n",
       "      <td>29.841367</td>\n",
       "      <td>25.732793</td>\n",
       "      <td>55.898884</td>\n",
       "    </tr>\n",
       "    <tr>\n",
       "      <th>50%</th>\n",
       "      <td>NaN</td>\n",
       "      <td>NaN</td>\n",
       "      <td>NaN</td>\n",
       "      <td>30.561344</td>\n",
       "      <td>-0.014549</td>\n",
       "      <td>2.657546</td>\n",
       "      <td>13.817506</td>\n",
       "      <td>-0.164254</td>\n",
       "      <td>-0.005961</td>\n",
       "      <td>4.414173</td>\n",
       "      <td>...</td>\n",
       "      <td>1.164171</td>\n",
       "      <td>0.437147</td>\n",
       "      <td>0.408310</td>\n",
       "      <td>0.571713</td>\n",
       "      <td>0.025279</td>\n",
       "      <td>5.096267</td>\n",
       "      <td>0.096981</td>\n",
       "      <td>39.919484</td>\n",
       "      <td>34.279742</td>\n",
       "      <td>74.904316</td>\n",
       "    </tr>\n",
       "    <tr>\n",
       "      <th>75%</th>\n",
       "      <td>NaN</td>\n",
       "      <td>NaN</td>\n",
       "      <td>NaN</td>\n",
       "      <td>40.143874</td>\n",
       "      <td>-0.010121</td>\n",
       "      <td>3.510655</td>\n",
       "      <td>18.601356</td>\n",
       "      <td>-0.115527</td>\n",
       "      <td>-0.004846</td>\n",
       "      <td>5.615389</td>\n",
       "      <td>...</td>\n",
       "      <td>1.515115</td>\n",
       "      <td>0.523619</td>\n",
       "      <td>0.509545</td>\n",
       "      <td>0.734149</td>\n",
       "      <td>0.036505</td>\n",
       "      <td>6.567417</td>\n",
       "      <td>0.138741</td>\n",
       "      <td>50.743708</td>\n",
       "      <td>41.495205</td>\n",
       "      <td>89.928424</td>\n",
       "    </tr>\n",
       "    <tr>\n",
       "      <th>max</th>\n",
       "      <td>NaN</td>\n",
       "      <td>NaN</td>\n",
       "      <td>NaN</td>\n",
       "      <td>85.482173</td>\n",
       "      <td>0.004719</td>\n",
       "      <td>12.273891</td>\n",
       "      <td>29.254765</td>\n",
       "      <td>0.332083</td>\n",
       "      <td>3.663749</td>\n",
       "      <td>220.056029</td>\n",
       "      <td>...</td>\n",
       "      <td>4.780203</td>\n",
       "      <td>1.673367</td>\n",
       "      <td>1.327351</td>\n",
       "      <td>5.472854</td>\n",
       "      <td>0.215199</td>\n",
       "      <td>12.683807</td>\n",
       "      <td>0.738455</td>\n",
       "      <td>131.239033</td>\n",
       "      <td>114.385624</td>\n",
       "      <td>237.947558</td>\n",
       "    </tr>\n",
       "  </tbody>\n",
       "</table>\n",
       "<p>11 rows × 28 columns</p>\n",
       "</div>"
      ],
      "text/plain": [
       "          Patient Sample  Category        Lipids  Unsaturated lipids  \\\n",
       "count     31912.0  31912     31912  31912.000000        31912.000000   \n",
       "unique       33.0     50         8           NaN                 NaN   \n",
       "top     2071876.0   N 26  HGSC_par           NaN                 NaN   \n",
       "freq       3469.0   2964     12812           NaN                 NaN   \n",
       "mean          NaN    NaN       NaN     24.846343           -0.014731   \n",
       "std           NaN    NaN       NaN     17.853234            0.008707   \n",
       "min           NaN    NaN       NaN     -0.106751           -0.187319   \n",
       "25%           NaN    NaN       NaN      2.843458           -0.018647   \n",
       "50%           NaN    NaN       NaN     30.561344           -0.014549   \n",
       "75%           NaN    NaN       NaN     40.143874           -0.010121   \n",
       "max           NaN    NaN       NaN     85.482173            0.004719   \n",
       "\n",
       "          CH3 groups    CH2 groups  Ester groups  \\\n",
       "count   31912.000000  31912.000000  31912.000000   \n",
       "unique           NaN           NaN           NaN   \n",
       "top              NaN           NaN           NaN   \n",
       "freq             NaN           NaN           NaN   \n",
       "mean        2.290090     11.151939     -0.161978   \n",
       "std         1.542136      8.254825      0.072436   \n",
       "min        -0.037424     -0.009415     -0.559956   \n",
       "25%         0.516018      1.189789     -0.211130   \n",
       "50%         2.657546     13.817506     -0.164254   \n",
       "75%         3.510655     18.601356     -0.115527   \n",
       "max        12.273891     29.254765      0.332083   \n",
       "\n",
       "        Unsaturated/saturated lipid ratio  Lipid saturation  ...  \\\n",
       "count                        31912.000000      31912.000000  ...   \n",
       "unique                                NaN               NaN  ...   \n",
       "top                                   NaN               NaN  ...   \n",
       "freq                                  NaN               NaN  ...   \n",
       "mean                            -0.011964          4.183101  ...   \n",
       "std                              0.134562          2.311403  ...   \n",
       "min                            -20.574695        -55.888301  ...   \n",
       "25%                             -0.020296          2.545845  ...   \n",
       "50%                             -0.005961          4.414173  ...   \n",
       "75%                             -0.004846          5.615389  ...   \n",
       "max                              3.663749        220.056029  ...   \n",
       "\n",
       "           Band 1450     Band 1390     Band 1240     Band 1080     Band 1310  \\\n",
       "count   31912.000000  31912.000000  31912.000000  31912.000000  31912.000000   \n",
       "unique           NaN           NaN           NaN           NaN           NaN   \n",
       "top              NaN           NaN           NaN           NaN           NaN   \n",
       "freq             NaN           NaN           NaN           NaN           NaN   \n",
       "mean        1.029627      0.427061      0.392735      0.629494      0.022107   \n",
       "std         0.638488      0.158479      0.168214      0.440272      0.025501   \n",
       "min        -0.071033     -0.132053     -0.101492     -0.589192     -0.202773   \n",
       "25%         0.325684      0.324803      0.278651      0.428183      0.011896   \n",
       "50%         1.164171      0.437147      0.408310      0.571713      0.025279   \n",
       "75%         1.515115      0.523619      0.509545      0.734149      0.036505   \n",
       "max         4.780203      1.673367      1.327351      5.472854      0.215199   \n",
       "\n",
       "           Band 2850     Band 3060     Biomass_I    Biomass_II  Biomass_Total  \n",
       "count   31912.000000  31912.000000  31912.000000  31912.000000   31912.000000  \n",
       "unique           NaN           NaN           NaN           NaN            NaN  \n",
       "top              NaN           NaN           NaN           NaN            NaN  \n",
       "freq             NaN           NaN           NaN           NaN            NaN  \n",
       "mean        4.030647      0.099232     39.066903     33.407301      72.474204  \n",
       "std         2.986890      0.064941     16.260292     13.094158      27.207239  \n",
       "min        -0.010721     -0.378584    -10.508358    -16.230971     -21.257606  \n",
       "25%         0.305769      0.058491     29.841367     25.732793      55.898884  \n",
       "50%         5.096267      0.096981     39.919484     34.279742      74.904316  \n",
       "75%         6.567417      0.138741     50.743708     41.495205      89.928424  \n",
       "max        12.683807      0.738455    131.239033    114.385624     237.947558  \n",
       "\n",
       "[11 rows x 28 columns]"
      ]
     },
     "execution_count": 27,
     "metadata": {},
     "output_type": "execute_result"
    }
   ],
   "source": [
    "# describe the dataset including the categorical variables\n",
    "data_raw.describe(include='all')"
   ]
  },
  {
   "cell_type": "markdown",
   "id": "ed3eed6d",
   "metadata": {},
   "source": [
    "From the data shown above, we can notice a few things:\n",
    "* The dataset contains nearly 32,000 entries across all columns, indicating there might not be any missing data. We'll confirm this shortly."
   ]
  },
  {
   "cell_type": "code",
   "execution_count": 28,
   "id": "1bfaff4d",
   "metadata": {},
   "outputs": [
    {
     "data": {
      "text/plain": [
       "Index([], dtype='object')"
      ]
     },
     "execution_count": 28,
     "metadata": {},
     "output_type": "execute_result"
    }
   ],
   "source": [
    "data_raw.columns[data_raw.isnull().any()]"
   ]
  },
  {
   "cell_type": "markdown",
   "id": "29e1f769",
   "metadata": {},
   "source": [
    "* A total of 50 samples were collected from 33 distinct patients."
   ]
  },
  {
   "cell_type": "markdown",
   "id": "d6b56018",
   "metadata": {},
   "source": [
    "* The most common category consists of HGSC samples preserved in paraffin. Let's explore the presence of other categories."
   ]
  },
  {
   "cell_type": "code",
   "execution_count": 29,
   "id": "d4177bb5",
   "metadata": {},
   "outputs": [
    {
     "data": {
      "text/plain": [
       "array(['CONTROL_dep', 'ENDOM_dep', 'HGSC_dep', 'MUC_dep', 'CONTROL_par',\n",
       "       'ENDOM_par', 'HGSC_par', 'MUC_par'], dtype=object)"
      ]
     },
     "execution_count": 29,
     "metadata": {},
     "output_type": "execute_result"
    }
   ],
   "source": [
    "data_raw['Category'].unique()"
   ]
  },
  {
   "cell_type": "markdown",
   "id": "cd973779",
   "metadata": {},
   "source": [
    "As observed, the data originate from samples **preserved in paraffin as well as from samples after deparaffinization**. They **will be handled separately because deparaffinization alters the spectral shape**, making direct comparison impossible. Therefore, they need to be split into two datasets."
   ]
  },
  {
   "cell_type": "code",
   "execution_count": 30,
   "id": "deaeecba",
   "metadata": {},
   "outputs": [],
   "source": [
    "# split the data into two datasets: in paraffin and after deparaffinization\n",
    "data_raw_PAR = data_raw[data_raw.Category.str.contains('par')]\n",
    "data_raw_DEP = data_raw[data_raw.Category.str.contains('dep')]\n",
    "\n",
    "# modify the names of categories\n",
    "data_raw_PAR.loc[:, 'Category'] = data_raw_PAR['Category'].str.replace('_par', '')\n",
    "data_raw_DEP.loc[:, 'Category'] = data_raw_DEP['Category'].str.replace('_dep', '')"
   ]
  },
  {
   "cell_type": "markdown",
   "id": "163eb33b",
   "metadata": {},
   "source": [
    "We'll categorize the samples and **examine the population of each category**."
   ]
  },
  {
   "cell_type": "code",
   "execution_count": 31,
   "id": "49f05378",
   "metadata": {},
   "outputs": [],
   "source": [
    "# group paraffine samples into categories\n",
    "label_counts_PAR = pd.DataFrame(data_raw_PAR.groupby('Category').size(), columns=['Count']).reset_index()\n",
    "\n",
    "# group deparaffinized samples into categories\n",
    "label_counts_DEP = pd.DataFrame(data_raw_DEP.groupby('Category').size(), columns=['Count']).reset_index()"
   ]
  },
  {
   "cell_type": "markdown",
   "id": "e50dfd29",
   "metadata": {},
   "source": [
    "Let's create visualizations to illustrate the distribution of each category for both paraffin and deparaffinized samples."
   ]
  },
  {
   "cell_type": "code",
   "execution_count": 32,
   "id": "39104b9a",
   "metadata": {},
   "outputs": [],
   "source": [
    "def create_subplot(ax, label_counts, title, total_label):\n",
    "    \n",
    "    # Plot for label_counts\n",
    "    patches, labels = ax.pie(label_counts['Count'], labels=label_counts['Category'], startangle=140)\n",
    "    ax.set_title(title, fontsize=14, weight='bold', pad=20)\n",
    "    ax.axis('equal')\n",
    "\n",
    "    # Adjust label distance to prevent overlap\n",
    "    for label in labels:\n",
    "        label.set_va('center_baseline')\n",
    "        label.set_fontweight('bold') \n",
    "        if label.get_text() == 'CONTROL':\n",
    "            label.set_va('bottom')\n",
    "        if label.get_text()=='HGSC':\n",
    "            label.set_ha('center')\n",
    "            label.set_va('top')\n",
    "\n",
    "    # Add circle to create doughnut chart\n",
    "    circle = plt.Circle((0, 0), 0.6, color='white')\n",
    "    ax.add_artist(circle)\n",
    "\n",
    "    # Calculate and add total count\n",
    "    total_count = label_counts['Count'].sum()\n",
    "    ax.text(0, -0.1, f'Total: {total_count}\\n {total_label}', ha='center', fontsize=14, weight='bold')\n",
    "\n",
    "    # Add legend using 'Count' values\n",
    "    legend_labels = ['{0} - {1}'.format(label, count) for label, count in zip(label_counts['Category'], label_counts['Count'])]\n",
    "    ax.legend(patches, legend_labels, loc='lower right', fontsize=10, facecolor='whitesmoke')"
   ]
  },
  {
   "cell_type": "code",
   "execution_count": 33,
   "id": "5ab6e479",
   "metadata": {},
   "outputs": [
    {
     "data": {
      "image/png": "[encoded data removed]",
      "text/plain": [
       "<Figure size 1100x400 with 2 Axes>"
      ]
     },
     "metadata": {},
     "output_type": "display_data"
    }
   ],
   "source": [
    "# Create colour palette\n",
    "palette = [\"#58508d\",\"#ff6361\",\"#ffa600\", \"#003f5c\", \"#00AAA0\", \"#bc5090\", \"#FADA5E\", \"#4B8BBE\"]\n",
    "\n",
    "# Set the Seaborn theme\n",
    "sns.set_theme(palette=palette)\n",
    "    \n",
    "# Create subplots with 1 row and 2 columns\n",
    "fig, axs = plt.subplots(1, 2, figsize=(11, 4))\n",
    "\n",
    "# Plot for label_counts_DEP\n",
    "create_subplot(axs[0], label_counts_DEP, 'No. of datapoints / Category \\n Deparaffinized samples', 'datapoints')\n",
    "\n",
    "# Plot for label_counts_PAR\n",
    "create_subplot(axs[1], label_counts_PAR, 'No. of datapoints / Category \\n Paraffine samples', 'datapoints')\n",
    "\n",
    "# Adjust layout\n",
    "plt.tight_layout()\n",
    "\n",
    "# Show the plot\n",
    "plt.show()"
   ]
  },
  {
   "cell_type": "markdown",
   "id": "4e28ef5b",
   "metadata": {},
   "source": [
    "Above, it's evident that the **majority of samples** belong to the high-grade serous carcinoma (**HGSC**) category, followed by mucinous carcinoma (**MUC**) as the second most abundant category. However, in the control group and endometrial carcinoma (ENDOM), the number of data points is significantly lower compared to the other two groups. More importantly, it's **crucial to analyze the origin of data points** in these underrepresented groups by **examining the number of patients associated with each category**. Let's group the entries by category and patient code for further investigation."
   ]
  },
  {
   "cell_type": "code",
   "execution_count": 34,
   "id": "1027b8db",
   "metadata": {},
   "outputs": [],
   "source": [
    "label_counts_patient_PAR = (data_raw_PAR.groupby('Category')['Patient']\n",
    "                           .nunique()\n",
    "                           .reset_index(name='Count'))\n",
    "                            \n",
    "label_counts_patient_DEP = (data_raw_DEP.groupby('Category')['Patient']\n",
    "                           .nunique()\n",
    "                           .reset_index(name='Count'))"
   ]
  },
  {
   "cell_type": "code",
   "execution_count": 35,
   "id": "7a530386",
   "metadata": {},
   "outputs": [
    {
     "data": {
      "image/png": "[encoded data removed]",
      "text/plain": [
       "<Figure size 1100x400 with 2 Axes>"
      ]
     },
     "metadata": {},
     "output_type": "display_data"
    }
   ],
   "source": [
    "# Create subplots with 1 row and 2 columns\n",
    "fig, axs = plt.subplots(1, 2, figsize=(11, 4))\n",
    "\n",
    "# Plot for label_counts_DEP\n",
    "create_subplot(axs[0], label_counts_patient_DEP, 'No. of patients / Category \\n Deparaffinized samples', 'patients')\n",
    "\n",
    "# Plot for label_counts_PAR\n",
    "create_subplot(axs[1], label_counts_patient_PAR, 'No. of patients / Category \\n Paraffine samples', 'patients')\n",
    "\n",
    "# Adjust layout and show the plot\n",
    "plt.tight_layout()\n",
    "plt.show()"
   ]
  },
  {
   "cell_type": "markdown",
   "id": "96e3c923",
   "metadata": {},
   "source": [
    "From the figures above, it's apparent that there are only two patients in the control group and one patient in the ENDOM group for both types of samples. This insight will be crucial for partitioning the data into training and test sets."
   ]
  },
  {
   "cell_type": "markdown",
   "id": "9b3f97f1",
   "metadata": {},
   "source": [
    "### 2. Dataset splitting"
   ]
  },
  {
   "cell_type": "markdown",
   "id": "d6606396",
   "metadata": {},
   "source": [
    "Based on the preceding analysis, it's clear that:\n",
    "\n",
    "* The number of patients in the CONTROL and ENDOM sample groups is insufficient for a reliable training-test split. Consequently, **classification will exclusively focus on MUC and HGSC samples**.\n",
    "<br>\n",
    "* The right method for dividing the data into training and testing sets is through **patient-wise splitting**. This methodology ensures that **data from each patient is allocated exclusively to either the training or test set, thus preventing potential data leakage**. \n",
    "\n",
    "    <span style=\"color:gray\">_(Similar problem was described in the following paper: \"Training machine learning models on patient level data segregation is crucial in practical clinical applications\", Oner et al.medRxiv 2020.04.23.20076406; doi: https://doi.org/10.1101/2020.04.23.20076406)_</span>\n",
    "\n",
    "\n",
    "    For comparison, we will also generate a dataset where all data points are randomly assigned to either the training or test set, allowing us to **illustrate the impact of data leakage on model performance**."
   ]
  },
  {
   "cell_type": "markdown",
   "id": "6d215f80",
   "metadata": {},
   "source": [
    "We'll begin by excluding the data points associated with CONTROL and ENDOM samples."
   ]
  },
  {
   "cell_type": "code",
   "execution_count": 36,
   "id": "ed275965",
   "metadata": {},
   "outputs": [],
   "source": [
    "# remove the datapoints related to CONTROL and ENDOM samples\n",
    "data_raw_PAR = data_raw_PAR[~data_raw_PAR['Category'].isin(['CONTROL', 'ENDOM'])]\n",
    "data_raw_DEP = data_raw_DEP[~data_raw_DEP['Category'].isin(['CONTROL', 'ENDOM'])]"
   ]
  },
  {
   "cell_type": "markdown",
   "id": "febe34f4",
   "metadata": {},
   "source": [
    "#### 2A. Patient-level splitting ####"
   ]
  },
  {
   "cell_type": "markdown",
   "id": "04d335bb",
   "metadata": {},
   "source": [
    "First, we need to ensure that all patient codes are of the same data type, regardless of whether they contain only numbers or a mix of numbers and letters."
   ]
  },
  {
   "cell_type": "code",
   "execution_count": 37,
   "id": "12dccb13",
   "metadata": {},
   "outputs": [],
   "source": [
    "# convert all patient codes to strings to ensure consistent data type\n",
    "data_raw_PAR.loc[:,'Patient'] = data_raw_PAR['Patient'].astype('str')\n",
    "data_raw_DEP.loc[:,'Patient'] = data_raw_DEP['Patient'].astype('str')"
   ]
  },
  {
   "cell_type": "markdown",
   "id": "14c57c1a",
   "metadata": {},
   "source": [
    "To effectively divide the data into training and test sets, we'll utilize **Group Shuffle Split**. This method enables random splitting of the data while **ensuring that all data points recorded for a single patient reside exclusively in either the training or test set**."
   ]
  },
  {
   "cell_type": "code",
   "execution_count": 38,
   "id": "b97cfb26",
   "metadata": {},
   "outputs": [],
   "source": [
    "# initialize GroupShuffleSplit for splitting the data into training and test sets.\n",
    "splitter = GroupShuffleSplit(test_size=0.20, n_splits=1, random_state = 0)"
   ]
  },
  {
   "cell_type": "code",
   "execution_count": 39,
   "id": "aa39345b",
   "metadata": {},
   "outputs": [],
   "source": [
    "# split samples in paraffine\n",
    "split = splitter.split(data_raw_PAR, groups=data_raw_PAR['Patient'])\n",
    "train_inds, test_inds = next(split)\n",
    "\n",
    "train_PAR_patient = data_raw_PAR.iloc[train_inds]\n",
    "test_PAR_patient = data_raw_PAR.iloc[test_inds]"
   ]
  },
  {
   "cell_type": "code",
   "execution_count": 40,
   "id": "15171848",
   "metadata": {},
   "outputs": [],
   "source": [
    "# split deparaffinized samples\n",
    "split = splitter.split(data_raw_DEP, groups=data_raw_DEP['Patient'])\n",
    "train_inds, test_inds = next(split)\n",
    "\n",
    "train_DEP_patient = data_raw_DEP.iloc[train_inds]\n",
    "test_DEP_patient = data_raw_DEP.iloc[test_inds]"
   ]
  },
  {
   "cell_type": "markdown",
   "id": "32115311",
   "metadata": {},
   "source": [
    "Let's confirm that no patient samples are present in both the training and test sets."
   ]
  },
  {
   "cell_type": "code",
   "execution_count": 41,
   "id": "cb906fcc",
   "metadata": {},
   "outputs": [
    {
     "data": {
      "text/plain": [
       "set()"
      ]
     },
     "execution_count": 41,
     "metadata": {},
     "output_type": "execute_result"
    }
   ],
   "source": [
    "# retrieve unique patient IDs from the training set and test set.\n",
    "A = set(train_PAR_patient['Patient'].unique())\n",
    "B = set(test_PAR_patient['Patient'].unique())\n",
    "\n",
    "# find the intersection of unique patient IDs between the training set and test set.\n",
    "A.intersection(B)"
   ]
  },
  {
   "cell_type": "markdown",
   "id": "26fece97",
   "metadata": {},
   "source": [
    "We observe that the intersection of training and test set patient codes does indeed yield an empty set."
   ]
  },
  {
   "cell_type": "code",
   "execution_count": 42,
   "id": "70993baf",
   "metadata": {},
   "outputs": [],
   "source": [
    "# export the datasets\n",
    "train_PAR_patient.to_csv('../data/train_PAR_patient.csv', index=False)\n",
    "test_PAR_patient.to_csv('../data/test_PAR_patient.csv', index=False)\n",
    "\n",
    "train_DEP_patient.to_csv('../data/train_DEP_patient.csv', index=False)\n",
    "test_DEP_patient.to_csv('../data/test_DEP_patient.csv', index=False)"
   ]
  },
  {
   "cell_type": "markdown",
   "id": "0be4ddcf",
   "metadata": {},
   "source": [
    "#### 2B. Standard train-test splitting ####"
   ]
  },
  {
   "cell_type": "markdown",
   "id": "b7e128d7",
   "metadata": {},
   "source": [
    "To contrast with the properly split data mentioned earlier, let's examine a scenario where we directly apply the most standard train-test split to the dataset."
   ]
  },
  {
   "cell_type": "code",
   "execution_count": 46,
   "id": "5f33cad7",
   "metadata": {},
   "outputs": [],
   "source": [
    "# split the datasets into training and test sets\n",
    "train_PAR_entry, test_PAR_entry = train_test_split(data_raw_PAR, test_size=0.2, random_state=0)\n",
    "train_DEP_entry, test_DEP_entry = train_test_split(data_raw_DEP, test_size=0.2, random_state=0)"
   ]
  },
  {
   "cell_type": "code",
   "execution_count": 47,
   "id": "21f589e3",
   "metadata": {},
   "outputs": [],
   "source": [
    "# export the datasets\n",
    "train_PAR_entry.to_csv('../data/train_PAR_entry.csv', index=False)\n",
    "test_PAR_entry.to_csv('../data/test_PAR_entry.csv', index=False)\n",
    "\n",
    "train_DEP_entry.to_csv('../data/train_DEP_entry.csv', index=False)\n",
    "test_DEP_entry.to_csv('../data/test_DEP_entry.csv', index=False)"
   ]
  },
  {
   "cell_type": "markdown",
   "id": "f38eb4df",
   "metadata": {},
   "source": [
    "Later on, we'll revisit those datasets to assess the extent of overestimation in the model's performance when we neglect to split the data at the patient level."
   ]
  }
 ],
 "metadata": {
  "kernelspec": {
   "display_name": "Python 3 (ipykernel)",
   "language": "python",
   "name": "python3"
  },
  "language_info": {
   "codemirror_mode": {
    "name": "ipython",
    "version": 3
   },
   "file_extension": ".py",
   "mimetype": "text/x-python",
   "name": "python",
   "nbconvert_exporter": "python",
   "pygments_lexer": "ipython3",
   "version": "3.11.5"
  }
 },
 "nbformat": 4,
 "nbformat_minor": 5
}
