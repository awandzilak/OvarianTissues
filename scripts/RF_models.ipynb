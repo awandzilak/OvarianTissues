{
 "cells": [
  {
   "cell_type": "markdown",
   "id": "25fdbe41",
   "metadata": {},
   "source": [
    "Data coming from FTIR experiment were cleaned and features were engineerd. Data coming from measurements of samples in paraffine and deparaffinized were treated separately."
   ]
  },
  {
   "cell_type": "markdown",
   "id": "301f9ff6",
   "metadata": {},
   "source": [
    "#### Data"
   ]
  },
  {
   "cell_type": "code",
   "execution_count": 1,
   "id": "fc2b19ad",
   "metadata": {},
   "outputs": [],
   "source": [
    "import pandas as pd\n",
    "import numpy as np\n",
    "import seaborn as sns\n",
    "import matplotlib.pyplot as plt"
   ]
  },
  {
   "cell_type": "code",
   "execution_count": 2,
   "id": "063563f6",
   "metadata": {},
   "outputs": [],
   "source": [
    "df_PAR = pd.read_csv('data/ratios_PAR.csv', index_col='Unnamed: 0')\n",
    "df_DEP = pd.read_csv('data/ratios_DEP.csv', index_col='Unnamed: 0')"
   ]
  },
  {
   "cell_type": "code",
   "execution_count": 3,
   "id": "780f0905",
   "metadata": {},
   "outputs": [
    {
     "data": {
      "text/plain": [
       "Index(['Patient', 'Sample', 'Category', 'Unsaturated/saturated lipid ratio',\n",
       "       'Lipid saturation', 'Carbonyl/lipid ratio', 'Lipid/protein ratio',\n",
       "       'Alpha helix/beta sheets', 'Percentage of beta forms',\n",
       "       'Biomass I/Biomass II', 'Amide III/Amide I', '1080/1240', '1450/1390',\n",
       "       '1080/Amide I', '10240/Amide I', '(1450+1390)/Lipids', '1450/Lipids',\n",
       "       '1390/Lipids', 'Amide B/Amide I', 'Amide III/Amide B', 'CH3/1450',\n",
       "       '2850/1450'],\n",
       "      dtype='object')"
      ]
     },
     "execution_count": 3,
     "metadata": {},
     "output_type": "execute_result"
    }
   ],
   "source": [
    "df_PAR.columns"
   ]
  },
  {
   "cell_type": "markdown",
   "id": "c4f0e88a",
   "metadata": {},
   "source": [
    "### MODELS"
   ]
  },
  {
   "cell_type": "markdown",
   "id": "4b0d1cb5",
   "metadata": {},
   "source": [
    "The purpose of this study was to check if the samples after embedding in paraffine and samples after deparaffinizaion still contain enough molecular information to allow for distinguishing between different types of diseased samples."
   ]
  },
  {
   "cell_type": "markdown",
   "id": "1e815ae8",
   "metadata": {},
   "source": [
    "For the purpose od samples classification random forest (RF) model was used, as also allows for easy understanding of features importance."
   ]
  },
  {
   "cell_type": "markdown",
   "id": "3a6eaf98",
   "metadata": {},
   "source": [
    "### 1. Samples in PARAFFINE"
   ]
  },
  {
   "cell_type": "markdown",
   "id": "5200de2d",
   "metadata": {},
   "source": [
    "#### (1a) Model including all types of samples (HGSC, MUC, ENDOM, CONTROL)"
   ]
  },
  {
   "cell_type": "code",
   "execution_count": 4,
   "id": "521d3b44",
   "metadata": {},
   "outputs": [],
   "source": [
    "from sklearn.model_selection import train_test_split, GridSearchCV\n",
    "from sklearn.ensemble import RandomForestClassifier"
   ]
  },
  {
   "cell_type": "code",
   "execution_count": 5,
   "id": "dc2f5c2e",
   "metadata": {},
   "outputs": [],
   "source": [
    "def prepare_sets_standard(df, random_state=None):\n",
    "    \"\"\"\n",
    "    function which splits to train and test sets in a typical way\n",
    "    as opposed to what will be introduced in chapter (1c).\n",
    "    the function accepts typical train_test_split parameters\n",
    "    \"\"\"\n",
    "    y = df.Category\n",
    "    X = df.drop(['Patient', 'Sample', 'Category'], axis=1)\n",
    "    X_train, X_test, y_train, y_test = train_test_split(X, y, random_state=random_state)\n",
    "    \n",
    "    return X_train, X_test, y_train, y_test"
   ]
  },
  {
   "cell_type": "code",
   "execution_count": 6,
   "id": "021071e6",
   "metadata": {},
   "outputs": [],
   "source": [
    "def get_best_params(sets):\n",
    "    \"\"\"\n",
    "    function which will find the best hyperparameters for given train and test sets\n",
    "    it takes a tuple containing following dataests: X_train, X_test, y_train, y_test\n",
    "    \"\"\"\n",
    "    X_train, X_test, y_train, y_test = sets\n",
    "    #defining parameters for GridSearchCV\n",
    "    random_grid = {'max_features': [4, 5, 6],\n",
    "               'max_depth': [5, 10, None],\n",
    "               'min_samples_split': [2, 5],\n",
    "               'min_samples_leaf': [1,2],\n",
    "               'bootstrap': [True, False]}\n",
    "    #fitting the models\n",
    "    rf_model = RandomForestClassifier(n_estimators = 100)\n",
    "    rf_grid = GridSearchCV(estimator=rf_model, param_grid=random_grid, cv=3)\n",
    "    rf_grid.fit(X_train, y_train)\n",
    "    \n",
    "    return rf_grid.best_params_"
   ]
  },
  {
   "cell_type": "code",
   "execution_count": 7,
   "id": "099960c3",
   "metadata": {},
   "outputs": [],
   "source": [
    "from sklearn.metrics import accuracy_score, f1_score\n",
    "\n",
    "def to_features_and_scores(sets, **kwargs):\n",
    "    \"\"\"\n",
    "    function which returns features importance and evaluates the performance of the model.\n",
    "    it takes a tuple containing following datasets: X_train, X_test, y_train, y_test.\n",
    "    it can take an additional argument as dictionary with hyperparameters values.\n",
    "    \"\"\"\n",
    "    X_train, X_test, y_train, y_test = sets\n",
    "    \n",
    "    rf_model = RandomForestClassifier(n_estimators=100, n_jobs=-1, **kwargs)\n",
    "    rf_model.fit(X_train, y_train)\n",
    "    y_pred = rf_model.predict(X_test)\n",
    "    \n",
    "    #calculaet metrics and get features\n",
    "    accuracy = accuracy_score(y_test, y_pred)\n",
    "    f1 = f1_score(y_test, y_pred, labels = pd.DataFrame(y_train).Category.unique(), average=None)\n",
    "    features = pd.DataFrame(rf_model.feature_importances_, index=X_train.columns, columns = ['Importance']).sort_values(by=['Importance'], ascending=False)\n",
    "    \n",
    "    return accuracy, f1, features"
   ]
  },
  {
   "cell_type": "code",
   "execution_count": 8,
   "id": "f623fb06",
   "metadata": {},
   "outputs": [],
   "source": [
    "import statistics\n",
    "\n",
    "def average_importances_and_scores(df, n, split_function, **kwargs):\n",
    "    \"\"\"\n",
    "    for given dataset and number of repeats (optionally dictionary with best parameters for RF model)\n",
    "    it will return features importance and accuracy and f1 scores\n",
    "    averaged after n runs with different train-test splits\n",
    "    \"\"\"\n",
    "    #define variables to store values from individual runs\n",
    "    features_rank = pd.DataFrame(0, index=df.drop(['Patient', 'Sample', 'Category'], axis=1).columns, columns=['Importance'])\n",
    "    accuracy_scores = []\n",
    "    f1_scores = pd.DataFrame(columns = df.Category.unique())\n",
    "    \n",
    "    #fill the variables with data from n independant experiments\n",
    "    for i in range(n):\n",
    "        #calculate scores and features for model trained with dataset split with different random_states\n",
    "        a, f1, f = to_features_and_scores(split_function(df), **kwargs)\n",
    "        accuracy_scores.append(a)\n",
    "        f1_scores.loc[len(f1_scores)] = f1\n",
    "        features_rank = features_rank + f\n",
    "    \n",
    "    #calculate averages\n",
    "    features_rank['Importance'] = features_rank['Importance']/n\n",
    "    features_rank.reset_index(inplace=True)\n",
    "    features_rank = features_rank.rename(columns = {'index':'Feature'})\n",
    "    sorted_features = features_rank.sort_values(by=['Importance'], ascending=False)\n",
    "    \n",
    "    accs = sum(accuracy_scores) / len(accuracy_scores)\n",
    "    u_accs = statistics.stdev(accuracy_scores)\n",
    "    \n",
    "    f1s = f1_scores.rename(columns=lambda s: s.replace(\"_par\",\"_f1_avg\").replace(\"_dep\",\"_f1_avg\")).mean().to_dict()\n",
    "    u_f1s = f1_scores.rename(columns=lambda s: s.replace(\"_par\",\"_f1_std\").replace(\"_dep\",\"_f1_std\")).std().to_dict()\n",
    "    \n",
    "    #put all scores in one dictionary\n",
    "    scores_dict = {'accs':accs, 'u_accs':u_accs, **f1s, **u_f1s}\n",
    "    \n",
    "    return scores_dict, sorted_features"
   ]
  },
  {
   "cell_type": "markdown",
   "id": "cf3535b3",
   "metadata": {},
   "source": [
    "Let's start by optimizing hyperparameters of Random Forest model"
   ]
  },
  {
   "cell_type": "code",
   "execution_count": 9,
   "id": "0134889a",
   "metadata": {},
   "outputs": [],
   "source": [
    "best_parameters = get_best_params(prepare_sets_standard(df_PAR, random_state=0)) "
   ]
  },
  {
   "cell_type": "markdown",
   "id": "3c0a2700",
   "metadata": {},
   "source": [
    "Using those optimized parameters we can fit the model multiple times with different train-test splits in order to get averaged values and standard deviations"
   ]
  },
  {
   "cell_type": "code",
   "execution_count": 10,
   "id": "7ffd0ade",
   "metadata": {},
   "outputs": [],
   "source": [
    "scores, features = average_importances_and_scores(df_PAR, 100, prepare_sets_standard, **best_parameters)"
   ]
  },
  {
   "cell_type": "markdown",
   "id": "8c8a2ffa",
   "metadata": {},
   "source": [
    "We can plot the features importance"
   ]
  },
  {
   "cell_type": "code",
   "execution_count": 11,
   "id": "3fa978e0",
   "metadata": {},
   "outputs": [],
   "source": [
    "def plot_features(features, name):\n",
    "    sns.barplot(y = features['Feature'], x = features['Importance'], palette=\"crest\")\n",
    "    plt.tight_layout()\n",
    "    plt.xlabel('Feature importance')\n",
    "    plt.ylabel('Feature')\n",
    "    plt.title(name)\n",
    "    plt.savefig(name)"
   ]
  },
  {
   "cell_type": "code",
   "execution_count": 12,
   "id": "1a386f39",
   "metadata": {},
   "outputs": [
    {
     "data": {
      "image/png": "[encoded data removed]",
      "text/plain": [
       "<Figure size 432x288 with 1 Axes>"
      ]
     },
     "metadata": {
      "needs_background": "light"
     },
     "output_type": "display_data"
    }
   ],
   "source": [
    "plot_features(features, 'In paraffine (HGSC, MUC, ENDOM & control)')"
   ]
  },
  {
   "cell_type": "markdown",
   "id": "423c139a",
   "metadata": {},
   "source": [
    "The 1080 cm-1 and 1240 cm-1 bands originate from vibrations of phosphate groups. They are present in  nucleic acids, so differences in their levels may be a result of increased replication in cancerous cells."
   ]
  },
  {
   "cell_type": "markdown",
   "id": "4602a84a",
   "metadata": {},
   "source": [
    "Let's have a look at the scores evaluating model's performance. "
   ]
  },
  {
   "cell_type": "code",
   "execution_count": 13,
   "id": "c0a2cf23",
   "metadata": {},
   "outputs": [
    {
     "data": {
      "text/plain": [
       "{'accs': 0.9238608045567814,\n",
       " 'u_accs': 0.003394725718744279,\n",
       " 'CONTROL_f1_avg': 0.9259189412725876,\n",
       " 'ENDOM_f1_avg': 0.9050864353119793,\n",
       " 'HGSC_f1_avg': 0.8782969391203734,\n",
       " 'MUC_f1_avg': 0.8544974686710889,\n",
       " 'CONTROL_f1_std': 0.0251132779837741,\n",
       " 'ENDOM_f1_std': 0.037301114181862834,\n",
       " 'HGSC_f1_std': 0.033616986799027596,\n",
       " 'MUC_f1_std': 0.031576237720503435}"
      ]
     },
     "execution_count": 13,
     "metadata": {},
     "output_type": "execute_result"
    }
   ],
   "source": [
    "scores"
   ]
  },
  {
   "cell_type": "markdown",
   "id": "be447844",
   "metadata": {},
   "source": [
    "We can see that the accuracy score (accs) is relatively high, however if we take a look at f1 scores we can see quite big differences between the values calculated for different classes (CONTROL, ENDOM, HGSC, MUC). It can be noticed that for CONTROL and ENDOM samples, which scored 0.83 and 0.88 respectively, the model performed significantly worse than for HGSC and MUC samples (0.94 and 0.91)."
   ]
  },
  {
   "cell_type": "markdown",
   "id": "0bd2c84c",
   "metadata": {},
   "source": [
    "The reason for those differences in the model's performance may be that CONTROL and ENDOM samples are underreprezented accounting only for 4% and 7% of data respectively."
   ]
  },
  {
   "cell_type": "code",
   "execution_count": 14,
   "id": "83eb44f3",
   "metadata": {},
   "outputs": [
    {
     "data": {
      "text/html": [
       "<div>\n",
       "<style scoped>\n",
       "    .dataframe tbody tr th:only-of-type {\n",
       "        vertical-align: middle;\n",
       "    }\n",
       "\n",
       "    .dataframe tbody tr th {\n",
       "        vertical-align: top;\n",
       "    }\n",
       "\n",
       "    .dataframe thead th {\n",
       "        text-align: right;\n",
       "    }\n",
       "</style>\n",
       "<table border=\"1\" class=\"dataframe\">\n",
       "  <thead>\n",
       "    <tr style=\"text-align: right;\">\n",
       "      <th></th>\n",
       "      <th>Sample</th>\n",
       "    </tr>\n",
       "    <tr>\n",
       "      <th>Category</th>\n",
       "      <th></th>\n",
       "    </tr>\n",
       "  </thead>\n",
       "  <tbody>\n",
       "    <tr>\n",
       "      <th>CONTROL_par</th>\n",
       "      <td>4.223033</td>\n",
       "    </tr>\n",
       "    <tr>\n",
       "      <th>ENDOM_par</th>\n",
       "      <td>6.857423</td>\n",
       "    </tr>\n",
       "    <tr>\n",
       "      <th>HGSC_par</th>\n",
       "      <td>57.013172</td>\n",
       "    </tr>\n",
       "    <tr>\n",
       "      <th>MUC_par</th>\n",
       "      <td>31.906372</td>\n",
       "    </tr>\n",
       "  </tbody>\n",
       "</table>\n",
       "</div>"
      ],
      "text/plain": [
       "                Sample\n",
       "Category              \n",
       "CONTROL_par   4.223033\n",
       "ENDOM_par     6.857423\n",
       "HGSC_par     57.013172\n",
       "MUC_par      31.906372"
      ]
     },
     "execution_count": 14,
     "metadata": {},
     "output_type": "execute_result"
    }
   ],
   "source": [
    "df_PAR[['Sample', 'Category']].groupby(['Category']).count()/len(df_PAR)*100"
   ]
  },
  {
   "cell_type": "markdown",
   "id": "d74b2fb9",
   "metadata": {},
   "source": [
    "To approach this problem I could do sampling of the dataset, which would allow for building models on balaced datasets. Alternatively using penalized models could be an option. However in this study ~1000 spectra from CONTROL GROUP originate from 2 patients and ~1700 spectra from ENDOM group come from 4 different samples from 1 patient. For this reason I will drop CONTROL and ENDOM samples from this study and continue with HGSC and MUC samples."
   ]
  },
  {
   "cell_type": "code",
   "execution_count": 15,
   "id": "49ef0777",
   "metadata": {},
   "outputs": [
    {
     "data": {
      "text/html": [
       "<div>\n",
       "<style scoped>\n",
       "    .dataframe tbody tr th:only-of-type {\n",
       "        vertical-align: middle;\n",
       "    }\n",
       "\n",
       "    .dataframe tbody tr th {\n",
       "        vertical-align: top;\n",
       "    }\n",
       "\n",
       "    .dataframe thead th {\n",
       "        text-align: right;\n",
       "    }\n",
       "</style>\n",
       "<table border=\"1\" class=\"dataframe\">\n",
       "  <thead>\n",
       "    <tr style=\"text-align: right;\">\n",
       "      <th></th>\n",
       "      <th></th>\n",
       "      <th></th>\n",
       "      <th>1080/1240</th>\n",
       "    </tr>\n",
       "    <tr>\n",
       "      <th>Category</th>\n",
       "      <th>Patient</th>\n",
       "      <th>Sample</th>\n",
       "      <th></th>\n",
       "    </tr>\n",
       "  </thead>\n",
       "  <tbody>\n",
       "    <tr>\n",
       "      <th rowspan=\"2\" valign=\"top\">CONTROL_par</th>\n",
       "      <th>1915091R</th>\n",
       "      <th>N 39</th>\n",
       "      <td>701</td>\n",
       "    </tr>\n",
       "    <tr>\n",
       "      <th>1976219</th>\n",
       "      <th>N 19</th>\n",
       "      <td>248</td>\n",
       "    </tr>\n",
       "    <tr>\n",
       "      <th rowspan=\"4\" valign=\"top\">ENDOM_par</th>\n",
       "      <th rowspan=\"4\" valign=\"top\">1910239</th>\n",
       "      <th>N 14 ?</th>\n",
       "      <td>332</td>\n",
       "    </tr>\n",
       "    <tr>\n",
       "      <th>N 15 ?</th>\n",
       "      <td>334</td>\n",
       "    </tr>\n",
       "    <tr>\n",
       "      <th>N 54 ?</th>\n",
       "      <td>392</td>\n",
       "    </tr>\n",
       "    <tr>\n",
       "      <th>N 55 ?</th>\n",
       "      <td>483</td>\n",
       "    </tr>\n",
       "    <tr>\n",
       "      <th rowspan=\"28\" valign=\"top\">HGSC_par</th>\n",
       "      <th>1892422M</th>\n",
       "      <th>N 35</th>\n",
       "      <td>425</td>\n",
       "    </tr>\n",
       "    <tr>\n",
       "      <th>1897426B</th>\n",
       "      <th>N 36</th>\n",
       "      <td>645</td>\n",
       "    </tr>\n",
       "    <tr>\n",
       "      <th rowspan=\"2\" valign=\"top\">1913751F</th>\n",
       "      <th>N 37</th>\n",
       "      <td>221</td>\n",
       "    </tr>\n",
       "    <tr>\n",
       "      <th>N 38</th>\n",
       "      <td>175</td>\n",
       "    </tr>\n",
       "    <tr>\n",
       "      <th>1925473A</th>\n",
       "      <th>N 41</th>\n",
       "      <td>85</td>\n",
       "    </tr>\n",
       "    <tr>\n",
       "      <th>1948174H</th>\n",
       "      <th>N 80</th>\n",
       "      <td>189</td>\n",
       "    </tr>\n",
       "    <tr>\n",
       "      <th>1955654O</th>\n",
       "      <th>N 79</th>\n",
       "      <td>443</td>\n",
       "    </tr>\n",
       "    <tr>\n",
       "      <th>1966577J</th>\n",
       "      <th>N 34</th>\n",
       "      <td>545</td>\n",
       "    </tr>\n",
       "    <tr>\n",
       "      <th>1968866B</th>\n",
       "      <th>N 33</th>\n",
       "      <td>680</td>\n",
       "    </tr>\n",
       "    <tr>\n",
       "      <th>1969819N</th>\n",
       "      <th>N 32</th>\n",
       "      <td>251</td>\n",
       "    </tr>\n",
       "    <tr>\n",
       "      <th>1984314A</th>\n",
       "      <th>N 43</th>\n",
       "      <td>396</td>\n",
       "    </tr>\n",
       "    <tr>\n",
       "      <th>1991600</th>\n",
       "      <th>N 42</th>\n",
       "      <td>431</td>\n",
       "    </tr>\n",
       "    <tr>\n",
       "      <th>1993244E</th>\n",
       "      <th>N 81</th>\n",
       "      <td>211</td>\n",
       "    </tr>\n",
       "    <tr>\n",
       "      <th>1995662B</th>\n",
       "      <th>N 28</th>\n",
       "      <td>538</td>\n",
       "    </tr>\n",
       "    <tr>\n",
       "      <th>2008533A</th>\n",
       "      <th>N 29</th>\n",
       "      <td>709</td>\n",
       "    </tr>\n",
       "    <tr>\n",
       "      <th>2019055A</th>\n",
       "      <th>N 30</th>\n",
       "      <td>753</td>\n",
       "    </tr>\n",
       "    <tr>\n",
       "      <th>2021352K</th>\n",
       "      <th>N 76</th>\n",
       "      <td>641</td>\n",
       "    </tr>\n",
       "    <tr>\n",
       "      <th>2024284G</th>\n",
       "      <th>Brak</th>\n",
       "      <td>701</td>\n",
       "    </tr>\n",
       "    <tr>\n",
       "      <th rowspan=\"2\" valign=\"top\">2031324J</th>\n",
       "      <th>N 44 ?</th>\n",
       "      <td>122</td>\n",
       "    </tr>\n",
       "    <tr>\n",
       "      <th>N 45 ?</th>\n",
       "      <td>240</td>\n",
       "    </tr>\n",
       "    <tr>\n",
       "      <th>2035095/12</th>\n",
       "      <th>N 82</th>\n",
       "      <td>648</td>\n",
       "    </tr>\n",
       "    <tr>\n",
       "      <th rowspan=\"3\" valign=\"top\">2071876</th>\n",
       "      <th>N 24 ?</th>\n",
       "      <td>583</td>\n",
       "    </tr>\n",
       "    <tr>\n",
       "      <th>N 25 ?</th>\n",
       "      <td>416</td>\n",
       "    </tr>\n",
       "    <tr>\n",
       "      <th>N 27 ?</th>\n",
       "      <td>1724</td>\n",
       "    </tr>\n",
       "    <tr>\n",
       "      <th rowspan=\"2\" valign=\"top\">2073370</th>\n",
       "      <th>N 46 ?</th>\n",
       "      <td>387</td>\n",
       "    </tr>\n",
       "    <tr>\n",
       "      <th>N 47 ?</th>\n",
       "      <td>158</td>\n",
       "    </tr>\n",
       "    <tr>\n",
       "      <th>2081892</th>\n",
       "      <th>N 23</th>\n",
       "      <td>211</td>\n",
       "    </tr>\n",
       "    <tr>\n",
       "      <th>2082920</th>\n",
       "      <th>N 83</th>\n",
       "      <td>284</td>\n",
       "    </tr>\n",
       "    <tr>\n",
       "      <th rowspan=\"11\" valign=\"top\">MUC_par</th>\n",
       "      <th>1899156B</th>\n",
       "      <th>N 22</th>\n",
       "      <td>725</td>\n",
       "    </tr>\n",
       "    <tr>\n",
       "      <th rowspan=\"2\" valign=\"top\">1934672F</th>\n",
       "      <th>N 49 ?</th>\n",
       "      <td>729</td>\n",
       "    </tr>\n",
       "    <tr>\n",
       "      <th>N 50 ?</th>\n",
       "      <td>678</td>\n",
       "    </tr>\n",
       "    <tr>\n",
       "      <th>1958490E</th>\n",
       "      <th>N 26</th>\n",
       "      <td>1462</td>\n",
       "    </tr>\n",
       "    <tr>\n",
       "      <th>1959217</th>\n",
       "      <th>N 48</th>\n",
       "      <td>959</td>\n",
       "    </tr>\n",
       "    <tr>\n",
       "      <th>1976219</th>\n",
       "      <th>N 18</th>\n",
       "      <td>269</td>\n",
       "    </tr>\n",
       "    <tr>\n",
       "      <th rowspan=\"2\" valign=\"top\">1990869</th>\n",
       "      <th>N 20 ?</th>\n",
       "      <td>450</td>\n",
       "    </tr>\n",
       "    <tr>\n",
       "      <th>N 21 ?</th>\n",
       "      <td>747</td>\n",
       "    </tr>\n",
       "    <tr>\n",
       "      <th rowspan=\"3\" valign=\"top\">2056003</th>\n",
       "      <th>N 51 ?</th>\n",
       "      <td>415</td>\n",
       "    </tr>\n",
       "    <tr>\n",
       "      <th>N 52 ?</th>\n",
       "      <td>483</td>\n",
       "    </tr>\n",
       "    <tr>\n",
       "      <th>N 74 ?</th>\n",
       "      <td>253</td>\n",
       "    </tr>\n",
       "  </tbody>\n",
       "</table>\n",
       "</div>"
      ],
      "text/plain": [
       "                               1080/1240\n",
       "Category    Patient    Sample           \n",
       "CONTROL_par 1915091R   N 39          701\n",
       "            1976219    N 19          248\n",
       "ENDOM_par   1910239    N 14 ?        332\n",
       "                       N 15 ?        334\n",
       "                       N 54 ?        392\n",
       "                       N 55 ?        483\n",
       "HGSC_par    1892422M   N 35          425\n",
       "            1897426B   N 36          645\n",
       "            1913751F   N 37          221\n",
       "                       N 38          175\n",
       "            1925473A   N 41           85\n",
       "            1948174H   N 80          189\n",
       "            1955654O   N 79          443\n",
       "            1966577J   N 34          545\n",
       "            1968866B   N 33          680\n",
       "            1969819N   N 32          251\n",
       "            1984314A   N 43          396\n",
       "            1991600    N 42          431\n",
       "            1993244E   N 81          211\n",
       "            1995662B   N 28          538\n",
       "            2008533A   N 29          709\n",
       "            2019055A   N 30          753\n",
       "            2021352K   N 76          641\n",
       "            2024284G   Brak          701\n",
       "            2031324J   N 44 ?        122\n",
       "                       N 45 ?        240\n",
       "            2035095/12 N 82          648\n",
       "            2071876    N 24 ?        583\n",
       "                       N 25 ?        416\n",
       "                       N 27 ?       1724\n",
       "            2073370    N 46 ?        387\n",
       "                       N 47 ?        158\n",
       "            2081892    N 23          211\n",
       "            2082920    N 83          284\n",
       "MUC_par     1899156B   N 22          725\n",
       "            1934672F   N 49 ?        729\n",
       "                       N 50 ?        678\n",
       "            1958490E   N 26         1462\n",
       "            1959217    N 48          959\n",
       "            1976219    N 18          269\n",
       "            1990869    N 20 ?        450\n",
       "                       N 21 ?        747\n",
       "            2056003    N 51 ?        415\n",
       "                       N 52 ?        483\n",
       "                       N 74 ?        253"
      ]
     },
     "execution_count": 15,
     "metadata": {},
     "output_type": "execute_result"
    }
   ],
   "source": [
    "df_PAR[['Patient', 'Sample', 'Category','1080/1240']].groupby(['Category', 'Patient', 'Sample']).count()"
   ]
  },
  {
   "cell_type": "markdown",
   "id": "0902b6ec",
   "metadata": {},
   "source": [
    "For the purpose of comparing the different approaches later I will keep the scores in a dataset."
   ]
  },
  {
   "cell_type": "code",
   "execution_count": 16,
   "id": "2f545f62",
   "metadata": {},
   "outputs": [],
   "source": [
    "scores['dataset'] = 'PAR all'\n",
    "scores = {k:[v] for k,v in scores.items()}\n",
    "df_scores = pd.DataFrame.from_dict(scores)"
   ]
  },
  {
   "cell_type": "markdown",
   "id": "04d9c419",
   "metadata": {},
   "source": [
    "#### (1b) Model including only HGSC and MUC samples"
   ]
  },
  {
   "cell_type": "markdown",
   "id": "cf057fc4",
   "metadata": {},
   "source": [
    "For the reasons mentioned in the previous part only HGSC and MUC samples which were considered in this model."
   ]
  },
  {
   "cell_type": "code",
   "execution_count": 17,
   "id": "a689df97",
   "metadata": {},
   "outputs": [],
   "source": [
    "#leave only two types of cancer (HGSC and MUC)\n",
    "df_PAR_HM = df_PAR[df_PAR.Category.str.contains('HGSC|MUC')]"
   ]
  },
  {
   "cell_type": "markdown",
   "id": "601e091a",
   "metadata": {},
   "source": [
    "Let's find the best hyperparameters for RF model..."
   ]
  },
  {
   "cell_type": "code",
   "execution_count": 18,
   "id": "35b82033",
   "metadata": {},
   "outputs": [],
   "source": [
    "best_parameters = get_best_params(prepare_sets_standard(df_PAR_HM, random_state=0)) "
   ]
  },
  {
   "cell_type": "markdown",
   "id": "73e0cd7d",
   "metadata": {},
   "source": [
    "...and get scores and features averaged after fitting the model 100 times"
   ]
  },
  {
   "cell_type": "code",
   "execution_count": 19,
   "id": "7b7f5e7b",
   "metadata": {},
   "outputs": [],
   "source": [
    "scores, features = average_importances_and_scores(df_PAR_HM, 100, prepare_sets_standard, **best_parameters)"
   ]
  },
  {
   "cell_type": "code",
   "execution_count": 20,
   "id": "6116db61",
   "metadata": {},
   "outputs": [
    {
     "data": {
      "image/png": "[encoded data removed]",
      "text/plain": [
       "<Figure size 432x288 with 1 Axes>"
      ]
     },
     "metadata": {
      "needs_background": "light"
     },
     "output_type": "display_data"
    }
   ],
   "source": [
    "plot_features(features, 'In paraffine (HGSC, MUC)')"
   ]
  },
  {
   "cell_type": "markdown",
   "id": "ad046b82",
   "metadata": {},
   "source": [
    "We can see that like in the previous case, where all types of samples were taken into accout, here also  1080 cm-1 and 1240 cm-1 bands play the most important role in distinguishing between different types of tissues."
   ]
  },
  {
   "cell_type": "markdown",
   "id": "0485867e",
   "metadata": {},
   "source": [
    "The scores of the model are presented below"
   ]
  },
  {
   "cell_type": "code",
   "execution_count": 21,
   "id": "e89584cd",
   "metadata": {},
   "outputs": [
    {
     "data": {
      "text/plain": [
       "{'accs': 0.9438851080864701,\n",
       " 'u_accs': 0.003109908175889133,\n",
       " 'HGSC_f1_avg': 0.9448714053433649,\n",
       " 'MUC_f1_avg': 0.9311680350700914,\n",
       " 'HGSC_f1_std': 0.018259758408268868,\n",
       " 'MUC_f1_std': 0.018274891398553598}"
      ]
     },
     "execution_count": 21,
     "metadata": {},
     "output_type": "execute_result"
    }
   ],
   "source": [
    "scores"
   ]
  },
  {
   "cell_type": "markdown",
   "id": "b32af294",
   "metadata": {},
   "source": [
    "We can see that overall the model scored better for HGSC and MUC then it scored before (for four types of tissues). The reason for that is that now it's a binary problem, which is easier to classify. Let's keep the scores for later."
   ]
  },
  {
   "cell_type": "code",
   "execution_count": 22,
   "id": "3d78bf3b",
   "metadata": {},
   "outputs": [],
   "source": [
    "scores['dataset'] = 'PAR HM'\n",
    "df_scores = df_scores.append(scores, ignore_index=True)"
   ]
  },
  {
   "cell_type": "markdown",
   "id": "f8895e14",
   "metadata": {},
   "source": [
    "We can't however be sure that the model is learning to recognize the disease and not the patient (spectra measured for the same patient). For this reason I decided to split samples into training and test set based on patient code this way that all samples coming from the same patient end up either in training or test set."
   ]
  },
  {
   "cell_type": "markdown",
   "id": "b5b1ee14",
   "metadata": {},
   "source": [
    "#### (1c) Model including only HGSC and MUC samples (patient-wise train-test split)"
   ]
  },
  {
   "cell_type": "markdown",
   "id": "41008358",
   "metadata": {},
   "source": [
    "Let's define a funstion which allows for patient-wise split of the cases into training and test sets."
   ]
  },
  {
   "cell_type": "code",
   "execution_count": 23,
   "id": "e5bff237",
   "metadata": {},
   "outputs": [],
   "source": [
    "def patientwise_split(df):\n",
    "    \"\"\"\n",
    "    Function which splits a given dataset train and test sets\n",
    "    by putting ALL records REPRESENTING THE SAME PATIENT either to train or test set\n",
    "    \"\"\"\n",
    "    train_size = 0.75\n",
    "    #Find a list of samples representing HGSC category, sample a specified part to train set\n",
    "    #and put the rest to test set\n",
    "    HGSC = df[['Patient']].drop_duplicates().loc[df['Category'].str.contains('HGSC')]\n",
    "    HGSC_train = HGSC.sample(n=int(train_size*len(HGSC))).Patient.unique()\n",
    "    HGSC = HGSC.Patient.unique()\n",
    "    HGSC_test = set(HGSC) - set(HGSC_train)\n",
    "    \n",
    "    #Train test split for MUC samples\n",
    "    MUC = df[['Patient']].drop_duplicates().loc[df['Category'].str.contains('MUC')]\n",
    "    MUC_train = MUC.sample(n=int(train_size*len(MUC))).Patient.unique()\n",
    "    MUC = MUC.Patient.unique()\n",
    "    MUC_test = list(set(MUC) - set(MUC_train))\n",
    "    \n",
    "    df_train = df.loc[(df['Category'].str.contains('MUC')) & (df['Patient'].isin(MUC_train)) | (df['Category'].str.contains('HGSC')) & (df['Patient'].isin(HGSC_train))]\n",
    "    df_test = df.loc[(df['Category'].str.contains('MUC')) & (df['Patient'].isin(MUC_test)) | (df['Category'].str.contains('HGSC')) & (df['Patient'].isin(HGSC_test))]\n",
    "    X_train = df_train.drop(['Patient', 'Sample', 'Category'], axis=1)\n",
    "    y_train = df_train.Category\n",
    "    X_test = df_test.drop(['Patient', 'Sample', 'Category'], axis=1)\n",
    "    y_test = df_test.Category\n",
    "    return X_train, X_test, y_train, y_test"
   ]
  },
  {
   "cell_type": "markdown",
   "id": "87095dc6",
   "metadata": {},
   "source": [
    "Let's find the best hyperparameters for RF model..."
   ]
  },
  {
   "cell_type": "code",
   "execution_count": 24,
   "id": "9c79957e",
   "metadata": {},
   "outputs": [],
   "source": [
    "best_parameters = get_best_params(patientwise_split(df_PAR_HM)) "
   ]
  },
  {
   "cell_type": "markdown",
   "id": "5bd6421d",
   "metadata": {},
   "source": [
    "...and get scores and features averaged after fitting the model 100 times"
   ]
  },
  {
   "cell_type": "code",
   "execution_count": 25,
   "id": "2e727352",
   "metadata": {},
   "outputs": [],
   "source": [
    "scores, features = average_importances_and_scores(df_PAR_HM, 100, patientwise_split, **best_parameters)"
   ]
  },
  {
   "cell_type": "code",
   "execution_count": 26,
   "id": "87c443ec",
   "metadata": {},
   "outputs": [
    {
     "data": {
      "image/png": "[encoded data removed]",
      "text/plain": [
       "<Figure size 432x288 with 1 Axes>"
      ]
     },
     "metadata": {
      "needs_background": "light"
     },
     "output_type": "display_data"
    }
   ],
   "source": [
    "plot_features(features, 'In paraffine (HGSC, MUC) patient-wise')"
   ]
  },
  {
   "cell_type": "markdown",
   "id": "500cc18a",
   "metadata": {},
   "source": [
    "The scores of the model are presented below"
   ]
  },
  {
   "cell_type": "code",
   "execution_count": 27,
   "id": "c2501109",
   "metadata": {},
   "outputs": [
    {
     "data": {
      "text/plain": [
       "{'accs': 0.7253101519031,\n",
       " 'u_accs': 0.08071173061821724,\n",
       " 'HGSC_f1_avg': 0.7980342470239918,\n",
       " 'MUC_f1_avg': 0.5435550659749113,\n",
       " 'HGSC_f1_std': 0.06376743188773151,\n",
       " 'MUC_f1_std': 0.15694964118103805}"
      ]
     },
     "execution_count": 27,
     "metadata": {},
     "output_type": "execute_result"
    }
   ],
   "source": [
    "scores"
   ]
  },
  {
   "cell_type": "markdown",
   "id": "510bdeb3",
   "metadata": {},
   "source": [
    "The decrease in f1 scores can be partly caused by the fact that especially for MUC samples data originated from few patients. However, it can;t be excluded that the previous models' accuracy was increased by them learning to the patient and not the disease. \n",
    "\n",
    "For this reason, for future studies I would recommend using patient-wise split.\n",
    "\n",
    "On the other hand features which are important in classification process are the same for this (patient-wise split) model as were for the previous two (random split) models. This may suggest that despite using an arguable method for train-test splits the previous models were also learning to recognize the disease (and not the patient), however it can't be proved."
   ]
  },
  {
   "cell_type": "code",
   "execution_count": 28,
   "id": "cade7553",
   "metadata": {},
   "outputs": [],
   "source": [
    "scores['dataset'] = 'PAR HM patient'\n",
    "df_scores = df_scores.append(scores, ignore_index=True)"
   ]
  },
  {
   "cell_type": "markdown",
   "id": "9231155c",
   "metadata": {},
   "source": [
    "### 2. Samples after DEPARAFFINIZATION"
   ]
  },
  {
   "cell_type": "markdown",
   "id": "4822bff2",
   "metadata": {},
   "source": [
    "Let's repeat all steps for the same samples after deparaffinization."
   ]
  },
  {
   "cell_type": "markdown",
   "id": "2d9d6ba7",
   "metadata": {},
   "source": [
    "#### (2a) Model including all types of samples (HGSC, MUC, ENDOM, CONTROL)"
   ]
  },
  {
   "cell_type": "markdown",
   "id": "10a4303a",
   "metadata": {},
   "source": [
    "Let's find the best hyperparameter for the RF model.\n"
   ]
  },
  {
   "cell_type": "code",
   "execution_count": 29,
   "id": "1d2c92e2",
   "metadata": {},
   "outputs": [],
   "source": [
    "best_parameters = get_best_params(prepare_sets_standard(df_DEP, random_state=0)) "
   ]
  },
  {
   "cell_type": "markdown",
   "id": "c5ef4707",
   "metadata": {},
   "source": [
    "Having those, we can fit the model 100 times with different train-test splits to improve statistics."
   ]
  },
  {
   "cell_type": "code",
   "execution_count": 30,
   "id": "8e2ef93e",
   "metadata": {},
   "outputs": [],
   "source": [
    "scores, features = average_importances_and_scores(df_DEP, 100, prepare_sets_standard, **best_parameters)"
   ]
  },
  {
   "cell_type": "code",
   "execution_count": 31,
   "id": "3b7a9226",
   "metadata": {},
   "outputs": [
    {
     "data": {
      "image/png": "[encoded data removed]",
      "text/plain": [
       "<Figure size 432x288 with 1 Axes>"
      ]
     },
     "metadata": {
      "needs_background": "light"
     },
     "output_type": "display_data"
    }
   ],
   "source": [
    "plot_features(features, 'Deparaffinized (HGSC, MUC, ENDOM & control)')"
   ]
  },
  {
   "cell_type": "markdown",
   "id": "4d84cd75",
   "metadata": {},
   "source": [
    "We can see that comparing to the samples embedded in paraffine different features have an importance in separation between different categories of the samples. The importance of lipid saturation suggests that not all lipids were washed out during deparaffinization process and those left still carry the essential information helpful in distinguishing between differentt cancerous tissues. The fact that this feature had no significant importance for the separation of the samples in paraffine may be caused by paraffine masking real content of lipids. Percentage of beta forms carries information about changes in the secondary structure of proteines which is known to change in cancerous tissues."
   ]
  },
  {
   "cell_type": "markdown",
   "id": "6167061f",
   "metadata": {},
   "source": [
    "The model scored as follows"
   ]
  },
  {
   "cell_type": "code",
   "execution_count": 32,
   "id": "03eab59d",
   "metadata": {},
   "outputs": [
    {
     "data": {
      "text/plain": [
       "{'accs': 0.9566186440677967,\n",
       " 'u_accs': 0.004364126279376036,\n",
       " 'CONTROL_f1_avg': 0.9552457333608811,\n",
       " 'ENDOM_f1_avg': 0.946414367701966,\n",
       " 'HGSC_f1_avg': 0.8850311958616898,\n",
       " 'MUC_f1_avg': 0.8911763656439412,\n",
       " 'CONTROL_f1_std': 0.020328997168702047,\n",
       " 'ENDOM_f1_std': 0.02128957629260504,\n",
       " 'HGSC_f1_std': 0.05211902365486114,\n",
       " 'MUC_f1_std': 0.05024506083723006}"
      ]
     },
     "execution_count": 32,
     "metadata": {},
     "output_type": "execute_result"
    }
   ],
   "source": [
    "scores"
   ]
  },
  {
   "cell_type": "markdown",
   "id": "e4857935",
   "metadata": {},
   "source": [
    "We can see that deparaffinized samples carry much more information which allows for accurate classification of control and ENDOM samples despite limited number of cases. Alternatively we can't exclude that the model learned how to recognize specific patients."
   ]
  },
  {
   "cell_type": "code",
   "execution_count": 33,
   "id": "78816d98",
   "metadata": {},
   "outputs": [],
   "source": [
    "scores['dataset'] = 'DEP all'\n",
    "df_scores = df_scores.append(scores, ignore_index=True)"
   ]
  },
  {
   "cell_type": "markdown",
   "id": "1a52560e",
   "metadata": {},
   "source": [
    "#### (2b) Model including only HGSC and MUC samples "
   ]
  },
  {
   "cell_type": "markdown",
   "id": "3e218452",
   "metadata": {},
   "source": [
    "Like in the case of samples embedded in paraffine as the next step we will consider only HGSC and MUC samples."
   ]
  },
  {
   "cell_type": "code",
   "execution_count": 34,
   "id": "f0542911",
   "metadata": {},
   "outputs": [],
   "source": [
    "#leave only two types of cancer (HGSC and MUC)\n",
    "df_DEP_HM = df_DEP[df_DEP.Category.str.contains('HGSC|MUC')]"
   ]
  },
  {
   "cell_type": "markdown",
   "id": "f9c43de1",
   "metadata": {},
   "source": [
    "Let's find the best hyperparameter for the RF model...."
   ]
  },
  {
   "cell_type": "code",
   "execution_count": 35,
   "id": "5aad3a48",
   "metadata": {},
   "outputs": [],
   "source": [
    "best_parameters = get_best_params(prepare_sets_standard(df_DEP_HM, random_state=0)) "
   ]
  },
  {
   "cell_type": "markdown",
   "id": "8b443423",
   "metadata": {},
   "source": [
    "... and fit the model 100 times with different train-test splits to improve statistics."
   ]
  },
  {
   "cell_type": "code",
   "execution_count": 36,
   "id": "2cef93bc",
   "metadata": {},
   "outputs": [],
   "source": [
    "scores, features = average_importances_and_scores(df_DEP_HM, 100, prepare_sets_standard, **best_parameters)"
   ]
  },
  {
   "cell_type": "code",
   "execution_count": 37,
   "id": "56c0c7fc",
   "metadata": {},
   "outputs": [
    {
     "data": {
      "image/png": "[encoded data removed]",
      "text/plain": [
       "<Figure size 432x288 with 1 Axes>"
      ]
     },
     "metadata": {
      "needs_background": "light"
     },
     "output_type": "display_data"
    }
   ],
   "source": [
    "plot_features(features, 'Deparaffinized (HGSC, MUC)')"
   ]
  },
  {
   "cell_type": "markdown",
   "id": "d029343f",
   "metadata": {},
   "source": [
    "As we can see the importance of features allowing for distinguishing between HGSC and MUC is similar to this we obtained for distinguishing between HGSC, MUC, ENDOM & control samples. "
   ]
  },
  {
   "cell_type": "code",
   "execution_count": 38,
   "id": "668b40bb",
   "metadata": {},
   "outputs": [
    {
     "data": {
      "text/plain": [
       "{'accs': 0.9621984265734267,\n",
       " 'u_accs': 0.0039374862741796135,\n",
       " 'HGSC_f1_avg': 0.9624770423540971,\n",
       " 'MUC_f1_avg': 0.9501157162068425,\n",
       " 'HGSC_f1_std': 0.01533011240737281,\n",
       " 'MUC_f1_std': 0.016120718443761905}"
      ]
     },
     "execution_count": 38,
     "metadata": {},
     "output_type": "execute_result"
    }
   ],
   "source": [
    "scores"
   ]
  },
  {
   "cell_type": "code",
   "execution_count": 39,
   "id": "125439b2",
   "metadata": {},
   "outputs": [
    {
     "data": {
      "text/plain": [
       "{'accs': 0.9621984265734267,\n",
       " 'u_accs': 0.0039374862741796135,\n",
       " 'HGSC_f1_avg': 0.9624770423540971,\n",
       " 'MUC_f1_avg': 0.9501157162068425,\n",
       " 'HGSC_f1_std': 0.01533011240737281,\n",
       " 'MUC_f1_std': 0.016120718443761905}"
      ]
     },
     "execution_count": 39,
     "metadata": {},
     "output_type": "execute_result"
    }
   ],
   "source": [
    "scores"
   ]
  },
  {
   "cell_type": "code",
   "execution_count": 40,
   "id": "0d81face",
   "metadata": {},
   "outputs": [],
   "source": [
    "scores['dataset'] = 'DEP HM'\n",
    "df_scores = df_scores.append(scores, ignore_index=True)"
   ]
  },
  {
   "cell_type": "markdown",
   "id": "ec422e5f",
   "metadata": {},
   "source": [
    "#### (2c) Model including only HGSC and MUC samples (patient-wise train-test split)"
   ]
  },
  {
   "cell_type": "code",
   "execution_count": 41,
   "id": "a95f7316",
   "metadata": {},
   "outputs": [],
   "source": [
    "best_parameters = get_best_params(patientwise_split(df_DEP_HM)) "
   ]
  },
  {
   "cell_type": "code",
   "execution_count": 42,
   "id": "9b4bd7a6",
   "metadata": {},
   "outputs": [],
   "source": [
    "scores, features = average_importances_and_scores(df_DEP_HM, 100, patientwise_split, **best_parameters)"
   ]
  },
  {
   "cell_type": "code",
   "execution_count": 43,
   "id": "ba84efdd",
   "metadata": {},
   "outputs": [
    {
     "data": {
      "image/png": "[encoded data removed]",
      "text/plain": [
       "<Figure size 432x288 with 1 Axes>"
      ]
     },
     "metadata": {
      "needs_background": "light"
     },
     "output_type": "display_data"
    }
   ],
   "source": [
    "plot_features(features, 'Deparaffinized (HGSC, MUC) patient-wise')"
   ]
  },
  {
   "cell_type": "code",
   "execution_count": 44,
   "id": "d851b2c0",
   "metadata": {},
   "outputs": [
    {
     "data": {
      "text/plain": [
       "{'accs': 0.6431481513746792,\n",
       " 'u_accs': 0.16742853565981883,\n",
       " 'HGSC_f1_avg': 0.7510742236391691,\n",
       " 'MUC_f1_avg': 0.25973347095542254,\n",
       " 'HGSC_f1_std': 0.14899299879737998,\n",
       " 'MUC_f1_std': 0.16285994193869258}"
      ]
     },
     "execution_count": 44,
     "metadata": {},
     "output_type": "execute_result"
    }
   ],
   "source": [
    "scores"
   ]
  },
  {
   "cell_type": "markdown",
   "id": "58e4be4d",
   "metadata": {},
   "source": [
    "Most important features remained unchanged comparing to the previous models for deparaffinized samples. However, for MUC samples after deparaffinization we can see a radical drop in accuracy of classification."
   ]
  },
  {
   "cell_type": "code",
   "execution_count": 45,
   "id": "216dff6a",
   "metadata": {},
   "outputs": [],
   "source": [
    "scores['dataset'] = 'DEP HM patient'\n",
    "df_scores = df_scores.append(scores, ignore_index=True)"
   ]
  },
  {
   "cell_type": "code",
   "execution_count": 46,
   "id": "2f696e12",
   "metadata": {},
   "outputs": [],
   "source": [
    "df_scores.to_csv('scores.csv')"
   ]
  },
  {
   "cell_type": "markdown",
   "id": "8dddbbcd",
   "metadata": {},
   "source": [
    "### 3. Summary"
   ]
  },
  {
   "cell_type": "markdown",
   "id": "45a5f634",
   "metadata": {},
   "source": [
    "#### (3a) Features importance"
   ]
  },
  {
   "cell_type": "markdown",
   "id": "f332f668",
   "metadata": {},
   "source": [
    "For all models for the samples in paraffine, the most important features were ratios of 1080 cm-1 and 1240 cm-1 bands and their respective ratios with Amide I. Aforementioned bands are vibrations of phosphate groups and they are present in nucleic acids, so differences in their levels may be a result of increased replication in cancerous cells.\n",
    "\n",
    "For the samples after deparaffinization the most important features for classification were: lipid saturation, which was masked by paraffine before and percentage of beta forms which carries information about changes in the secondary structure of proteines (which is known to change in cancerous tissues)."
   ]
  },
  {
   "cell_type": "markdown",
   "id": "c6b6f207",
   "metadata": {},
   "source": [
    "#### (3b) Scores"
   ]
  },
  {
   "cell_type": "code",
   "execution_count": 47,
   "id": "6afcb926",
   "metadata": {},
   "outputs": [],
   "source": [
    "#df_scores = pd.read_csv('scores.csv', index_col='Unnamed: 0')"
   ]
  },
  {
   "cell_type": "code",
   "execution_count": 48,
   "id": "9784561a",
   "metadata": {},
   "outputs": [],
   "source": [
    "df_scores = df_scores.drop(['accs', 'u_accs','CONTROL_f1_std', 'ENDOM_f1_std',\n",
    "       'HGSC_f1_std', 'MUC_f1_std'], axis=1)\n",
    "df_scores = df_scores.rename(columns={'CONTROL_f1_avg':'CONTROL', 'ENDOM_f1_avg':'ENDOM', 'HGSC_f1_avg':'HGSC', 'MUC_f1_avg':'MUC'})"
   ]
  },
  {
   "cell_type": "code",
   "execution_count": 55,
   "id": "2e2bb9ed",
   "metadata": {},
   "outputs": [
    {
     "data": {
      "image/png": "[encoded data removed]",
      "text/plain": [
       "<Figure size 432x288 with 1 Axes>"
      ]
     },
     "metadata": {
      "needs_background": "light"
     },
     "output_type": "display_data"
    }
   ],
   "source": [
    "df_scores.plot(x='dataset', kind=\"bar\", cmap='Dark2') \n",
    "plt.ylabel('F1 score')\n",
    "plt.legend(loc='center left', bbox_to_anchor=(1, 0.5), frameon=False)\n",
    "plt.tight_layout()\n",
    "plt.savefig('scores.jpg')"
   ]
  },
  {
   "cell_type": "markdown",
   "id": "eb283927",
   "metadata": {},
   "source": [
    "In the left side of the plot results for samples embedded in paraffine were presented. In the right side we can see data recorded after deparaffinization.\n",
    "\n",
    "As we can see accuracy of CONTROL and ENDOM samples was the highest. This may be caused by the fact that all datapoints for these categories was originating from two and four patients respectively which could have made the model learn how to recognize the patient and not the disease.\n",
    "\n",
    "Due to limited number of data for CONTROL and ENDOM and lack of possibility to collect more data the next two models considered only HGCS and MUC samples. The second model used the data randomly split between training and test sets, and the latter the data split in this way that all cases related to a specific patient go only to the training set or only to the test set. \n",
    "\n",
    "We can see that the second model (both for PAR and DEP) scores high - better than in the first model because binary classification is an easier problem. We can't exclude that the model is still learning to recognize the patients. \n",
    "\n",
    "In the third model we can see a decrease in the accuracy. It may be caused by the fact that now the model can't learn to recognize patients instead of the disease. It is also possible that the accuracy is smaller because the model was trained with smaller variety of data (coming from less patients). It is well visible when we compare scores for HGSC and MUC samples, knowing that despite using ~10 000 datapoints in each group the third model was trained on data coming from 17 patients for HGSC and 4 patients for MUC. Having the amount of data we have we can't say for sure if the model learned to recognize patients or the disease."
   ]
  }
 ],
 "metadata": {
  "kernelspec": {
   "display_name": "Python 3 (ipykernel)",
   "language": "python",
   "name": "python3"
  },
  "language_info": {
   "codemirror_mode": {
    "name": "ipython",
    "version": 3
   },
   "file_extension": ".py",
   "mimetype": "text/x-python",
   "name": "python",
   "nbconvert_exporter": "python",
   "pygments_lexer": "ipython3",
   "version": "3.9.7"
  }
 },
 "nbformat": 4,
 "nbformat_minor": 5
}
